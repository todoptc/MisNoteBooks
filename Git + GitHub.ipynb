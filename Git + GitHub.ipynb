{
 "cells": [
  {
   "cell_type": "markdown",
   "metadata": {},
   "source": [
    "#  CURSO RÁPIDO DE GIT + GITHUB"
   ]
  },
  {
   "cell_type": "markdown",
   "metadata": {},
   "source": [
    "Curso rapido de Git y GitHub EN 30 MINUTOS - Guia de Supervivencia  \n",
    "https://www.youtube.com/watch?v=RJNALIw8PFE&vl=es-419"
   ]
  },
  {
   "cell_type": "markdown",
   "metadata": {},
   "source": [
    "Al crear un programa hacemos modificaciones segun vayamos avanzando en el desarrollo, y n o pasa nada si los cambios son pequeños, en cambio cuando cambiamos grandes cantidades de codigo, el desacer no vasta.  Para estos casos se inventaron los sistemas de control de versiones.\n",
    "\n",
    "Podemos optar por tener el proyecto en la nube en un servicio propio o ajeno.  Cuando queremos modificar algo lo bajamos lo modificamos y lo volvemos a subir.  Pero esto no es nada práctico ya que si queremos recuperar algo anterior no podremos...\n",
    "\n",
    "Por ello surgieron los sistemas de control de versiones o DVCSs (Distributed Version Control Systems) que no es mas que cada miembro de un grupo de proyecto tiene una copia local del control de versiones es decir una copia del historial de cambios que se han ido realizando cada vez que rezlizamos una modificación en nuestra copia, esta modificacion se reporta a la copia principal donde es gestionada convenientemente por el administrador del proyecto."
   ]
  },
  {
   "cell_type": "markdown",
   "metadata": {},
   "source": [
    "## 1. Qué es Git y como usarlo..."
   ]
  },
  {
   "cell_type": "markdown",
   "metadata": {},
   "source": [
    "Git es un sistema de control de versiones distribuido, pensado para proyectos donde existe un gran numero de archivos de codigo fuente y fue creado por Linux Torval."
   ]
  },
  {
   "cell_type": "markdown",
   "metadata": {},
   "source": [
    "###  1.1.  Flujo de trabajo con git"
   ]
  },
  {
   "cell_type": "markdown",
   "metadata": {},
   "source": [
    "El flujo del trabajo se realiza en 3 estados segun la imagen \n",
    "\n",
    "<img src=\"imagenes git/flujoTrabajoGit.png\">\n",
    "\n",
    "Cunado estas trabajando en el proyecto vas modificando archivos y cada vez que modifico uno de ellos pasa al estado `Modificado`, cuando considero que uno de los rchivos modificados ya está terminado se lo tenemos que comunica al DVCSs y en ese momento ese archivo para al estado de `Preparado`y por ultimo cuando ya tenemos todos los archivos en estado preparado los pasaremos al estado `Confirmado`"
   ]
  },
  {
   "cell_type": "markdown",
   "metadata": {},
   "source": [
    "### 1.2 Instalar Git"
   ]
  },
  {
   "cell_type": "markdown",
   "metadata": {},
   "source": [
    "Ir a su pagina web y en decargas realizar la mas actual\n",
    "https://git-scm.com/downloads\n"
   ]
  },
  {
   "cell_type": "markdown",
   "metadata": {},
   "source": [
    "## 2. Qué es GitHub y como usarlo"
   ]
  },
  {
   "cell_type": "markdown",
   "metadata": {},
   "source": [
    "GitHub es una plataforma web que permite guardar proyectos controlados mediante Git .  En GitHub tendremos una especie de espejo o duplicado de los proyectos que tenemos en nuestro propio ordenador y ademas podemos ver los proyectos de otra gente.  \n",
    "\n",
    "GitHub funciona tambien como una red social de programadores en las que se pueden votar los proyectos de otros y a los propios usuarios.  Cada usuario puede establecer vinculos con otros usuarios y deguir lo que hace.  Muchas empresas buscan programadores en esta plataforma.\n",
    "\n",
    "GitHub es gratuito e ilimitado para subir proyectos publicos, si los quieres tener privados tiene que pagar. \n",
    "\n",
    "En un principio todo esto puede parecer engorroso pero todo tiene su lógica"
   ]
  }
 ],
 "metadata": {
  "kernelspec": {
   "display_name": "Python 3",
   "language": "python",
   "name": "python3"
  },
  "language_info": {
   "codemirror_mode": {
    "name": "ipython",
    "version": 3
   },
   "file_extension": ".py",
   "mimetype": "text/x-python",
   "name": "python",
   "nbconvert_exporter": "python",
   "pygments_lexer": "ipython3",
   "version": "3.7.3"
  },
  "latex_envs": {
   "LaTeX_envs_menu_present": true,
   "autoclose": false,
   "autocomplete": true,
   "bibliofile": "biblio.bib",
   "cite_by": "apalike",
   "current_citInitial": 1,
   "eqLabelWithNumbers": true,
   "eqNumInitial": 1,
   "hotkeys": {
    "equation": "Ctrl-E",
    "itemize": "Ctrl-I"
   },
   "labels_anchors": false,
   "latex_user_defs": false,
   "report_style_numbering": false,
   "user_envs_cfg": false
  },
  "toc": {
   "base_numbering": 1,
   "nav_menu": {},
   "number_sections": true,
   "sideBar": true,
   "skip_h1_title": false,
   "title_cell": "Table of Contents",
   "title_sidebar": "Contents",
   "toc_cell": false,
   "toc_position": {},
   "toc_section_display": true,
   "toc_window_display": false
  }
 },
 "nbformat": 4,
 "nbformat_minor": 2
}
