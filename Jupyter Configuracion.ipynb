{
 "cells": [
  {
   "cell_type": "markdown",
   "metadata": {},
   "source": [
    "## Para cambiar el directorio donde se guardan los notebooks"
   ]
  },
  {
   "cell_type": "markdown",
   "metadata": {},
   "source": [
    "Abrir una consola, por ejemplo aqui en JupyterLab y primero verificar que ya exista el archivo  \n",
    "jupyter_notebook_config.py  \n",
    "que normalmente en windows se encuentra en:  \n",
    "C:\\Users\\USERNAME\\.jupyter\\jupyter_notebook_config.py  \n",
    "\n",
    "Si no existe lo crearemos poniendo en la consola:  \n",
    "\n",
    "jupyter notebook --generate-config  \n",
    "\n",
    "Una vez verificado que lo hemos creado lo abrimos con un editor de python (x ejem Thonny), buscaremos la linea\n",
    "\n",
    "##The directory to use for notebooks and kernels.\n",
    "#c.NotebookApp.notebook_dir = ' '  \n",
    "\n",
    "Y le pondremos la direccion del directorio donde queramos guardar los notebooks.  Si no entra la direccion con \\ la pondremos con la otra barra /, lo desmarcamos quitando el #, en el caso actual quedaria así  \n",
    "\n",
    "\n",
    "c.NotebookApp.notebook_dir = 'C:/Users/RDB/JupyterNotebooks'"
   ]
  },
  {
   "cell_type": "markdown",
   "metadata": {},
   "source": [
    "## Instalar Jupyterlab"
   ]
  },
  {
   "cell_type": "markdown",
   "metadata": {},
   "source": [
    "dentro del prompt de node.js, cambiar el directorio hasta la carpeta de scripts de python y ejecutar"
   ]
  },
  {
   "cell_type": "markdown",
   "metadata": {},
   "source": [
    "pip3 install jupyterlab"
   ]
  },
  {
   "cell_type": "markdown",
   "metadata": {},
   "source": [
    "## Instalar el Kernel ijavascript"
   ]
  },
  {
   "cell_type": "markdown",
   "metadata": {},
   "source": [
    "Tener instalado previamente  \n",
    "- Node.js  \n",
    "- npm (paquete que viene con Node.js)  \n",
    "- Jupyter Notebook  "
   ]
  },
  {
   "cell_type": "markdown",
   "metadata": {},
   "source": [
    "Puede ser instalado de manera global (para todos los usuarios) ejecutando en cmd o en otro promp pero como administrador  \n",
    "\n",
    "npm install -g ijavascript  \n",
    "ijsinstall --install=global  \n",
    "\n",
    "O de manera local\n",
    "\n",
    "npm config set prefix ~  \n",
    "npm install -g ijavascript  \n",
    "ijsinstall"
   ]
  },
  {
   "cell_type": "markdown",
   "metadata": {},
   "source": [
    "Node.js viene con un exe, pero la herramienta node-gyp no estará funcional a no ser que tengamos instalado alguno de los compiladores C++ reconocidos.  \n",
    "Seguiremos los siguientes pasos para la compilacion de node-gyp con la herramienta Node.js addon nativa.  En el propmt de node.js como administrador ejecutamos:\n",
    "\n",
    "1. npm install -g node-gyp\n",
    "2. npm install --global --production windows-build-tools  \n",
    "3. node-gyp --python /path/to/python2.7\n",
    " o npm config set python /path/to/executable/python2.7\n",
    "4. cd my_node_addon q creo q es C:\\Program Files\\nodejs\\node_modules\\npm\\node_modules\\node-gyp\\bin  \n",
    "5. node-gyp configure  \n",
    "6. node-gyp build"
   ]
  }
 ],
 "metadata": {
  "kernelspec": {
   "display_name": "Python 3",
   "language": "python",
   "name": "python3"
  },
  "language_info": {
   "codemirror_mode": {
    "name": "ipython",
    "version": 3
   },
   "file_extension": ".py",
   "mimetype": "text/x-python",
   "name": "python",
   "nbconvert_exporter": "python",
   "pygments_lexer": "ipython3",
   "version": "3.7.3"
  },
  "nteract": {
   "version": "nteract-on-jupyter@2.0.7"
  }
 },
 "nbformat": 4,
 "nbformat_minor": 2
}
