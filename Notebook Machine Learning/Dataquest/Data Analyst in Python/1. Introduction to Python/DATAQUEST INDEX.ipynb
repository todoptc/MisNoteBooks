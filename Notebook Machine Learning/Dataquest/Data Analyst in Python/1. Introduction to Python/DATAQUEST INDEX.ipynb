{
 "cells": [
  {
   "cell_type": "markdown",
   "metadata": {},
   "source": [
    "<H1>COURSE DATA ANALYST IN PYTHON (5 STEPS)</H1>\n",
    "DATAQUEST.IO\n",
    "\n",
    "```\n",
    "STEP1  INTRODUCCION A PYTHON (2 COURSES)  \n",
    "1.1.   PYTHON FOR DATA SCIENCE FUNDAMENTAL (9 MISSIONS)  \n",
    "1.2.   PYTHON FOR DDATA SCIENCE INTERMEDIATE (5 MISSIONS)  \n",
    "\n",
    "STEP2  INTERMEDIATE PYTHON AND PANDAS (6 COURSES)\n",
    "2.1.   PANDA AND NUMPY FUNDAMENTALS (7 MISSIONS)\n",
    "2.2.   EXPLORATORY DATA VISUALIZATION (5 MISSIONS)\n",
    "2.3.   STORYTELLING THROUGH DATA VISUALIZATION (5 MISSIONS)\n",
    "2.4.   DATA CLEANING AND ANALYSIS (6 MISSIONS)\n",
    "2.5.   DATA CLEANING IN PYTHON ADVANCED (4 MISSIONS)\n",
    "2.6.   DATA CLEANING PROJECT WALKTHROUGH (6 MISSIONS)\n",
    "\n",
    "STEP3  THE COMMNAD LINE (3 COURSES)\n",
    "3.1.   COMMAND LINE BEGINNER (9 MISSIONS)\n",
    "3.2.   COMMAND LINE INTERMEDIATE (5 MISSIONS)\n",
    "3.3.   GIT AND VERSION CONTROL (5 MISSIONS)\n",
    "\n",
    "STEP4  WORKING WITH DATA SOURCES (4 COURSES)\n",
    "4.1.   SQL FUNDAMENTALS (6 MISSIONS)\n",
    "4.2.   SQL INTERMEDIATE: TABLE RELATIONS AND JOINS (6 MISSIONS)\n",
    "4.3.   SQL AND DB ADVANCED (5 MISSIONS)\n",
    "4.4.   APIS AND WEB SCRAPING (4 MISSIONS)\n",
    "\n",
    "STEP5  PROBABILITY AND STATISTICS (3 COURSES)\n",
    "5.1.   STATISTICS FUNDAMENTALS (6 MISSIONS)\n",
    "5.2.   STATISTICS INTERMEDIATE : AVERAGE AND VARIABILITY (6 MISSIONS)\n",
    "5.3.   PROBABILITY AND STATISTICS IN PYTHON INTERMEDIATE (7 MISSIONS)\n",
    "```"
   ]
  },
  {
   "cell_type": "markdown",
   "metadata": {},
   "source": [
    "STEP1  INTRODUCCION A PYTHON (2 COURSES)  \n",
    "\n",
    "\n",
    "1.1.   PYTHON FOR DATA SCIENCE FUNDAMENTAL (9 MISSIONS) \n",
    "        1. Program\n",
    "        bming in Python\n",
    "        2. Variables and Data Types\n",
    "        3. Lists and For Loops\n",
    "        4. Conditinal Statements\n",
    "        5. Dictionaries and Frequency Tables\n",
    "        6. Functions:  Fundamentals\n",
    "        7. Functions:  Intermediate\n",
    "        8. Project: Learn and Install Jupyter Notebook\n",
    "        9. Guided Project:  Profitable App Profiles for the App Store and Google Play Markets\n",
    "        \n",
    "1.2.   PYTHON FOR DATA SCIENCE INTERMEDIATE (5 MISSIONS)\n",
    "        1. Cleaning and Preparing Data in Python\n",
    "        2. Python Data Analysis Basics\n",
    "        3. Object-Oriented Python\n",
    "        4. Working with Dates and Times in Python\n",
    "        5. Guided Project: Exploring Hacker News Posts"
   ]
  },
  {
   "cell_type": "markdown",
   "metadata": {},
   "source": [
    "<h2>6. Functions:  Fundamentals</h2>\n",
    "pritn(), sum(), len(), min(), max() son funciones.  Normalmente las unciones tienen el patron de de :  \n",
    "\n",
    "1.  Tomar una entrada o input\n",
    "2.  Hacer algo con esa entrada o input (que a veces es una caja negra)\n",
    "3.  Debolver una salida o output"
   ]
  },
  {
   "cell_type": "code",
   "execution_count": 1,
   "metadata": {},
   "outputs": [
    {
     "name": "stdout",
     "output_type": "stream",
     "text": [
      "24\n",
      "103945\n",
      "103945\n"
     ]
    }
   ],
   "source": [
    "a_list = [4444, 8897, 6340, 9896, 4835, 4324, 10, 6445,\n",
    "          661, 1246, 1000, 7429, 1376, 8121, 647, 1280,\n",
    "          3993, 4881, 9500, 6701, 1199, 6251, 4432, 37]\n",
    "\n",
    "#print(len(a_list))\n",
    "# Voy a crear la funcion len()\n",
    "\n",
    "length = 0\n",
    "for elements in a_list:\n",
    "    length += 1\n",
    "\n",
    "print(length)\n",
    "\n",
    "# Voy a crear la funcion sum()\n",
    "print(sum(a_list))\n",
    "\n",
    "suma = 0\n",
    "for elements in a_list:\n",
    "    suma += elements\n",
    "\n",
    "print(suma)"
   ]
  },
  {
   "cell_type": "markdown",
   "metadata": {},
   "source": [
    "Las funciones nos ayudan a trabajar más rápido y simplifican nuestro código. Cada vez que tenemos una tarea repetitiva, podemos acelerar considerablemente nuestro flujo de trabajo utilizando una función cada vez que hacemos esa tarea.\n",
    "\n",
    "Python tiene varias funciones incorporadas o built-in functions como sum(),  len(), min(), max()... pero no tiene funciones creadas por cada tarea que nosostros necesitamos, por lo que nosotros podremos crear nuestras propias funciones como por ejemplo para generar tablas de fracuencia.  Para ello:  \n",
    "1.  Tomaremos el conjunto de datos de aplicaciones iOS como input\n",
    "2.  Generaremos la tabla de frecuencias de la columna que queramos\n",
    "3.  Devolveremos la tabla de frecuencia (en forma de diccionario) como output"
   ]
  },
  {
   "cell_type": "code",
   "execution_count": 2,
   "metadata": {},
   "outputs": [
    {
     "name": "stdout",
     "output_type": "stream",
     "text": [
      "{'4+': 3, '9+': 1, '12+': 2, '17+': 2}\n"
     ]
    }
   ],
   "source": [
    "ratings = ['4+', '4+', '4+', '9+', '12+', '12+', '17+', '17+']\n",
    "content_ratings = {}\n",
    "\n",
    "for rating in ratings:\n",
    "    if rating in content_ratings:\n",
    "        content_ratings[rating] += 1\n",
    "    else:\n",
    "        content_ratings[rating] = 1\n",
    "\n",
    "print(content_ratings)"
   ]
  },
  {
   "cell_type": "code",
   "execution_count": 3,
   "metadata": {},
   "outputs": [
    {
     "name": "stdout",
     "output_type": "stream",
     "text": [
      "4\n"
     ]
    }
   ],
   "source": [
    "#Creamos nuestra propia funcion para calcular el cuadrado de un numero\n",
    "def square(num):\n",
    "    return num * num\n",
    "\n",
    "print(square(2))"
   ]
  },
  {
   "cell_type": "markdown",
   "metadata": {},
   "source": [
    "Una función se compone de:  \n",
    "1.  El encabezado que contiene la sentencia `def` con los posibles parametros de entrada.  Cuando el parámetro o parámetros toman un valor los llamamos argumentos\n",
    "2.  Un cuerpo o la definicion de la funcion\n",
    "3.  La sentencia `return`"
   ]
  },
  {
   "cell_type": "code",
   "execution_count": 4,
   "metadata": {},
   "outputs": [
    {
     "name": "stdout",
     "output_type": "stream",
     "text": [
      "40\n",
      "100\n"
     ]
    }
   ],
   "source": [
    "def add_10(num):\n",
    "    return num + 10\n",
    "\n",
    "add_30 = add_10(30)    \n",
    "add_90 = add_10(90)\n",
    "\n",
    "print(add_30)\n",
    "print(add_90)"
   ]
  },
  {
   "cell_type": "markdown",
   "metadata": {},
   "source": [
    "<h3>6.1.  Funciones para generar tablas de frecuencias</h3>\n",
    "\n",
    "\n",
    "Para generar una tabla de frecuencias de nuestro set de datos de apps iOS tenemos que tener en cuenta.  \n",
    "1.  Nuestro set de datos es una lista de listas.\n",
    "2.  Deberemos extraer los valores de la columna en una lista separada\n",
    "3.  Generaremos la tabla de frecuencias de esta lista creada\n",
    "\n",
    "Podemos crear funciones para cada uno de los dos ultimos puntos, es decir:  \n",
    "1.  Una funcion que extraiga los valores de una columna elegida a una lista\n",
    "2.  Una función que genere una tabla de frecuencias de esa lista pasada como argumento a esta nueva funcion.\n",
    "\n",
    "`PRIMERA FUNCION QUE EXTRAIGA LOS VALORES DE UNA COLUMNA A UNA LISTA VACIA`\n",
    "\n",
    "```python\n",
    "1. Creamos una lista vacia\n",
    "2. Iteramos sobre el set de datos apps_data, excluyendo la primera fila. Y  en cada iteracion.\n",
    "    -  Almacenamos el valor de la columna que queremos en una variable\n",
    "    -  Añadimos el valor a la lista que hemos creado\n",
    "    \n",
    "opened_file = open('AppleStore.csv')\n",
    "from csv import reader\n",
    "read_file = reader(opened_file)\n",
    "apps_data = list(read_file)\n",
    "\n",
    "def extract(column):\n",
    "    content_columns = []\n",
    "    for row in apps_data[1:]:\n",
    "        content_column = row[column]\n",
    "        content_columns.append(content_column)\n",
    "    \n",
    "    return content_columns\n",
    "\n",
    "# Voy a extraer el contenido de la columna prime_genre (index 11) de nuestro set de datos\n",
    "genres = extract(11)\n",
    "print(genres)\n",
    "```\n",
    "\n",
    "`SEGUNDA FUNCION QUE NOS GENERE LA TABLA DE LA LISTA GENERADA POR extract()`\n",
    "\n",
    "```PYTHON\n",
    "1.  Creamos un diccionario vacio\n",
    "2.  Recorro la lista creada en extract() y compruebo en cada iteración si la variable de iteración existe como clave en el diccionario creado. \n",
    "    - Si existe, entonces incremento en 1 el valor del diccionario en esa clave. \n",
    "    - De lo contrario (si no existe), creo un nuevo par clave-valor en el diccionario, donde la clave del diccionario es la variable de iteración, y el valor del diccionario es 1.\n",
    "\n",
    "opened_file = open('AppleStore.csv')\n",
    "from csv import reader\n",
    "read_file = reader(opened_file)\n",
    "apps_data = list(read_file)\n",
    "\n",
    "def extract(index):\n",
    "    column = []    \n",
    "    for row in apps_data[1:]:\n",
    "        value = row[index]\n",
    "        column.append(value)    \n",
    "    return column\n",
    "\n",
    "def freq_table(lista):\n",
    "    freq_dict = {}\n",
    "    for element in lista:\n",
    "        if element in freq_dict:\n",
    "            freq_dict[element] += 1\n",
    "        else:\n",
    "            freq_dict[element] = 1\n",
    "    return freq_dict            \n",
    "\n",
    "genres = extract(11)\n",
    "genres_ft = freq_table(genres)\n",
    "print(genres_ft)\n",
    "\n",
    "Salida:\n",
    "    {'Medical': 23, 'Business': 57, 'Lifestyle': 144, 'Reference': 64, 'Shopping': 122, 'Travel': 81, 'Social Networking': 167, 'Weather': 72, 'Catalogs': 10, 'Book': 112, 'Navigation': 46, 'Productivity': 178, 'Photo & Video': 349, 'News': 75, 'Music': 138, 'Food & Drink': 63, 'Sports': 114, 'Education': 453, 'Utilities': 248, 'Health & Fitness': 180, 'Entertainment': 535, 'Finance': 104, 'Games': 3862}\n",
    "```\n"
   ]
  },
  {
   "cell_type": "markdown",
   "metadata": {},
   "source": [
    "<h3>6.2  Unificando varias funciones en una</h3>\n",
    "\n",
    "Podriamos unificar el codigo para crear una lista con los datos a utilizar y de ella crear una tabla de frecuencias, recorriendo directamente los datos de la fila columna seleccionada sin tener que almacenar todos ellos en una lista distinta:\n",
    "\n",
    "```Python\n",
    "opened_file = open('AppleStore.csv')\n",
    "from csv import reader\n",
    "read_file = reader(opened_file)\n",
    "apps_data = list(read_file)\n",
    "\n",
    "content_ratings = {}\n",
    "\n",
    "for row in apps_data[1:]:\n",
    "    c_rating = row[10]\n",
    "    if c_rating in content_ratings:\n",
    "        content_ratings[c_rating] += 1\n",
    "    else:\n",
    "        content_ratings[c_rating] = 1\n",
    "```\n",
    "\n",
    "Por lo que a partir de este código crearemos la función freq_table para calcular la tabla de frecuencias de cualquier campo de nuestro set de datos apps_data\n",
    "\n",
    "```Python\n",
    "opened_file = open('AppleStore.csv')\n",
    "from csv import reader\n",
    "read_file = reader(opened_file)\n",
    "apps_data = list(read_file)\n",
    "\n",
    "def freq_table(column): \n",
    "    content_ratings = {}\n",
    "\n",
    "    for row in apps_data[1:]:\n",
    "        c_rating = row[column]\n",
    "        if c_rating in content_ratings:\n",
    "            content_ratings[c_rating] += 1\n",
    "        else:\n",
    "            content_ratings[c_rating] = 1\n",
    "     \n",
    "    return content_ratings\n",
    "\n",
    "#  Ahora si quisieramos crear la tabla de frecuencias de la columna user_rating con indice 7\n",
    "#  Y almacenarla en la variable ratings_ft\n",
    "\n",
    "ratings_ft = freq_table(7)\n",
    "```            "
   ]
  },
  {
   "cell_type": "markdown",
   "metadata": {},
   "source": [
    "<h3>6.3. Argumentos con nombre o de palabra clave y Argumentos por posicion</h3>\n",
    "\n",
    "Hay mas de una forma de pasar los argumentos en una función.\n",
    "1. Con nombre o palabra clave:  Son aquellos argumentos que van con el nombre de la variable a la que hacen referencia y su valor dentro de su propio encabezado.\n",
    "\n",
    "```Python\n",
    "def substract(a, b):\n",
    "    return a-b\n",
    "\n",
    "substract(a = 10, b = 7)\n",
    "``` \n",
    "2.  Por posición, en la que se sobreentiende por la posicion de los valores en el encabezado cual es el valor de cada variable.\n",
    "\n",
    "```bPython\n",
    "def substract(a, b):\n",
    "    return a-b\n",
    "\n",
    "substract(10, 7)\n",
    "```"
   ]
  },
  {
   "cell_type": "code",
   "execution_count": null,
   "metadata": {},
   "outputs": [],
   "source": [
    "# Ejercicio 10\n",
    "# Funcion que nos sriva para cualquier data set y cualquier index\n",
    "\n",
    "opened_file = open('AppleStore.csv')\n",
    "from csv import reader\n",
    "read_file = reader(opened_file)\n",
    "apps_data = list(read_file)\n",
    "\n",
    "def freq_table(data_set, index):\n",
    "    frequency_table = {}\n",
    "    \n",
    "    for row in data_set[1:]:\n",
    "        value = row[index]\n",
    "        if value in frequency_table:\n",
    "            frequency_table[value] += 1\n",
    "        else:\n",
    "            frequency_table[value] = 1\n",
    "        \n",
    "    return frequency_table\n",
    "\n",
    "#  Llamamos a nuestra funcion pasandole los argumentos por nombre y por posicion\n",
    "content_ratings_ft = freq_table(apps_data, 10)\n",
    "ratings_ft = freq_table(data_set = apps_data, index = 7)\n",
    "genres_ft = freq_table(index = 11, data_set = apps_data)"
   ]
  }
 ],
 "metadata": {
  "kernelspec": {
   "display_name": "Python 3",
   "language": "python",
   "name": "python3"
  },
  "language_info": {
   "codemirror_mode": {
    "name": "ipython",
    "version": 3
   },
   "file_extension": ".py",
   "mimetype": "text/x-python",
   "name": "python",
   "nbconvert_exporter": "python",
   "pygments_lexer": "ipython3",
   "version": "3.7.3"
  },
  "latex_envs": {
   "LaTeX_envs_menu_present": true,
   "autoclose": false,
   "autocomplete": true,
   "bibliofile": "biblio.bib",
   "cite_by": "apalike",
   "current_citInitial": 1,
   "eqLabelWithNumbers": true,
   "eqNumInitial": 1,
   "hotkeys": {
    "equation": "Ctrl-E",
    "itemize": "Ctrl-I"
   },
   "labels_anchors": false,
   "latex_user_defs": false,
   "report_style_numbering": false,
   "user_envs_cfg": false
  },
  "toc": {
   "base_numbering": 1,
   "nav_menu": {},
   "number_sections": false,
   "sideBar": true,
   "skip_h1_title": true,
   "title_cell": "Table of Contents",
   "title_sidebar": "Contents",
   "toc_cell": false,
   "toc_position": {},
   "toc_section_display": true,
   "toc_window_display": false
  }
 },
 "nbformat": 4,
 "nbformat_minor": 2
}
